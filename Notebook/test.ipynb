{
 "cells": [
  {
   "cell_type": "code",
   "execution_count": 31,
   "metadata": {},
   "outputs": [],
   "source": [
    "from sensor.predictor import  ModelResolver\n",
    "model_resolver = ModelResolver()"
   ]
  },
  {
   "cell_type": "code",
   "execution_count": 32,
   "metadata": {},
   "outputs": [
    {
     "data": {
      "text/plain": [
       "'saved_models/0'"
      ]
     },
     "execution_count": 32,
     "metadata": {},
     "output_type": "execute_result"
    }
   ],
   "source": [
    "model_resolver.get_latest_save_dir_path()"
   ]
  },
  {
   "cell_type": "code",
   "execution_count": 33,
   "metadata": {},
   "outputs": [
    {
     "ename": "AttributeError",
     "evalue": "'ModelResolver' object has no attribute 'get_latest_save_model_path'",
     "output_type": "error",
     "traceback": [
      "\u001b[0;31m---------------------------------------------------------------------------\u001b[0m",
      "\u001b[0;31mAttributeError\u001b[0m                            Traceback (most recent call last)",
      "Cell \u001b[0;32mIn[33], line 1\u001b[0m\n\u001b[0;32m----> 1\u001b[0m \u001b[43mmodel_resolver\u001b[49m\u001b[38;5;241;43m.\u001b[39;49m\u001b[43mget_latest_save_model_path\u001b[49m()\n",
      "\u001b[0;31mAttributeError\u001b[0m: 'ModelResolver' object has no attribute 'get_latest_save_model_path'"
     ]
    }
   ],
   "source": [
    "model_resolver.get_latest_save_model_path()"
   ]
  },
  {
   "cell_type": "code",
   "execution_count": 25,
   "metadata": {},
   "outputs": [],
   "source": [
    "class ModelResolver1:\n",
    "\n",
    "    def __init__(self,model_registry:str = \"saved_models\",\n",
    "    transformer_dir_name:str = \"transformer\",\n",
    "    target_encoder_dir_name:str = \"targer_encoder\",\n",
    "    model_dir_name:str = \"model\"):\n",
    "\n",
    "        self.model_registry = model_registry\n",
    "        os.makedirs(self.model_registry,exist_ok=True)\n",
    "        self.transformer_dir_name = transformer_dir_name\n",
    "        self.target_encoder_dir_name = target_encoder_dir_name\n",
    "        self.model_dir_name = model_dir_name\n",
    "\n",
    "    def get_latest_dir_path(self,):\n",
    "        '''This function will give path of earlier saved model'''\n",
    "        try:\n",
    "            dir_names = os.listdir(self.model_registry)\n",
    "            if len(dir_names) == 0:\n",
    "                return None\n",
    "            dir_names = list(map(int,dir_names))\n",
    "            latest_dir_name = max(dir_names)\n",
    "            return os.path.join(self.model_registry,f\"{latest_dir_name}\")\n",
    "        except Exception as e:\n",
    "            raise SensorException(e, sys)"
   ]
  },
  {
   "cell_type": "code",
   "execution_count": 26,
   "metadata": {},
   "outputs": [],
   "source": [
    "model_resolver1 = ModelResolver1()"
   ]
  },
  {
   "cell_type": "code",
   "execution_count": 27,
   "metadata": {},
   "outputs": [],
   "source": [
    "model_resolver1.get_latest_dir_path()"
   ]
  },
  {
   "cell_type": "code",
   "execution_count": null,
   "metadata": {},
   "outputs": [],
   "source": []
  }
 ],
 "metadata": {
  "kernelspec": {
   "display_name": "Python 3.8.10 64-bit",
   "language": "python",
   "name": "python3"
  },
  "language_info": {
   "codemirror_mode": {
    "name": "ipython",
    "version": 3
   },
   "file_extension": ".py",
   "mimetype": "text/x-python",
   "name": "python",
   "nbconvert_exporter": "python",
   "pygments_lexer": "ipython3",
   "version": "3.8.10"
  },
  "orig_nbformat": 4,
  "vscode": {
   "interpreter": {
    "hash": "e7370f93d1d0cde622a1f8e1c04877d8463912d04d973331ad4851f04de6915a"
   }
  }
 },
 "nbformat": 4,
 "nbformat_minor": 2
}
